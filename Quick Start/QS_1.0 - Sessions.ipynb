{
 "cells": [
  {
   "cell_type": "markdown",
   "id": "957b5661-59a4-4b70-a8e5-e0a4ce9f7382",
   "metadata": {},
   "source": [
    "----\n",
    "<img src=\"../files/refinitiv.png\" width=\"20%\" style=\"vertical-align: top;\">\n",
    "\n",
    "# Data Library for Python\n",
    "\n",
    "----"
   ]
  },
  {
   "cell_type": "markdown",
   "id": "78f0fd7b",
   "metadata": {},
   "source": [
    "## Define and Open a session\n",
    "\n",
    "Depending on the Credentials and Refinitiv Products/Services you have access to, you need define & open either a Platform Session or Desktop Session: \n",
    "\n",
    " - **Platform Session:** Used to connect to the Refinitiv Data Platform (RDP) directly or via a local (deployed) Real-time Distribution System(RTDS). The PlatformSession requires RDP credentials (machine account) or connection details of your local platform (IP of the local server and DACS user name).\n",
    "  - When the PlatformSession is used with RDP credentials only, it retrieves both streaming data and non-streaming data from the Refinitiv Data Platform.\n",
    "  - When the PlatformSession is used with connection details of your local deployed platform, it retrieves streaming data only from your local platform.  \n",
    "   \n",
    "   \n",
    " - **Desktop Session:** This type of session is used to connect RDP either via Eikon or via the Refinitiv Workspace. Eikon or the Refinitiv Workspace must be run **on the same PC** as your Python code.\n",
    " \n",
    "You will also require an App Key that uniquely identifies your application. Please refer to the Refinitiv Data Libraries Quick Start guide's **Access Credentials** section for instructions on creating an App Key."
   ]
  },
  {
   "cell_type": "markdown",
   "id": "c77f2e4c-c19f-4a6c-ac1e-31d1678a28b4",
   "metadata": {},
   "source": [
    "## Set the location of the configuration file\n",
    "For ease of use, you can set various initialization parameters of the RD Library in the **_refinitiv-data.config.json_** configuration file - as detailed in the next section below.\n",
    "\n",
    "Typically you may place this file in the same folder as your Notebook or Python script.\n",
    "OR, you can place the file in an alternative folder and specify the folder path using the _RD_LIB_CONFIG_PATH_ environment variable. \n",
    "\n",
    "### One config file for the tutorials\n",
    "As these tutorial Notebooks are categorised into sub-folders and to avoid the need for multiple config files, we will use the _RD_LIB_CONFIG_PATH_ environment variable to point to a single instance of the config file in the top-level ***Configuration*** folder.\n",
    "\n",
    "Before proceeding, please **ensure you have entered your credentials** into the config file in the ***Configuration*** folder."
   ]
  },
  {
   "cell_type": "code",
   "execution_count": 18,
   "id": "4c9f9a18-4960-43bf-aeeb-9a60ce748084",
   "metadata": {},
   "outputs": [],
   "source": [
    "import os\n",
    "os.environ[\"RD_LIB_CONFIG_PATH\"] = \"/Users/lydiamarsden/Library/CloudStorage/OneDrive-UniversityCollegeLondon/Documents/programming/keys-and-config\""
   ]
  },
  {
   "cell_type": "markdown",
   "id": "560d68d9",
   "metadata": {},
   "source": [
    "## Import the library"
   ]
  },
  {
   "cell_type": "code",
   "execution_count": 10,
   "id": "e801bb0e",
   "metadata": {},
   "outputs": [],
   "source": [
    "import refinitiv.data as rd"
   ]
  },
  {
   "cell_type": "markdown",
   "id": "ab5d158c-c9db-4c70-a40e-69f3fe0a27bd",
   "metadata": {},
   "source": [
    "## Using the 'refinitiv-data.config.json' file\n",
    "Using the Refinitiv data library config file allows you to specify various parameters such as:\n",
    "* Default session\n",
    "* Credentials\n",
    "* Connectivity parameters  \n",
    "* Logging related:   \n",
    "  - Enable or Disable console/file logging\n",
    "  - Log Level\n",
    "  - Filename\n",
    "\n",
    "### Easiest way to Create & Open a Session\n",
    "\n",
    "Using the above json config file, where possible, provides the simplest approach to creating and opening sessions.  \n",
    "For example, assuming you have \n",
    "* a '*refinitiv-data.config.json*' in the ***Configuration*** directory \n",
    "* **populated the file with your credentials**\n",
    "* and specified a 'default' session in the config file    \n",
    "\n",
    "you can create and open the default session as follows:"
   ]
  },
  {
   "cell_type": "code",
   "execution_count": 5,
   "id": "94f821ff-a3ae-4a02-bf4d-c737ce581b07",
   "metadata": {},
   "outputs": [
    {
     "ename": "RDError",
     "evalue": "Error code 0 | Error happened during config file /Users/lydiamarsden/Library/CloudStorage/OneDrive-UniversityCollegeLondon/Documents/programming/keys-and-config/refinitiv-data.config.json/refinitiv-data.config.json read",
     "output_type": "error",
     "traceback": [
      "\u001b[0;31m---------------------------------------------------------------------------\u001b[0m",
      "\u001b[0;31mNotADirectoryError\u001b[0m                        Traceback (most recent call last)",
      "File \u001b[0;32m~/anaconda3/envs/eikon/lib/python3.11/site-packages/refinitiv/data/_configure.py:89\u001b[0m, in \u001b[0;36m_read_config_file\u001b[0;34m(path)\u001b[0m\n\u001b[1;32m     88\u001b[0m \u001b[38;5;28;01mtry\u001b[39;00m:\n\u001b[0;32m---> 89\u001b[0m     \u001b[38;5;28;01mwith\u001b[39;00m \u001b[38;5;28mopen\u001b[39m(path, \u001b[38;5;124m\"\u001b[39m\u001b[38;5;124mr\u001b[39m\u001b[38;5;124m\"\u001b[39m) \u001b[38;5;28;01mas\u001b[39;00m f:\n\u001b[1;32m     90\u001b[0m         data \u001b[38;5;241m=\u001b[39m json\u001b[38;5;241m.\u001b[39mload(f, \u001b[38;5;28mcls\u001b[39m\u001b[38;5;241m=\u001b[39m_JSONDecoder)\n",
      "\u001b[0;31mNotADirectoryError\u001b[0m: [Errno 20] Not a directory: '/Users/lydiamarsden/Library/CloudStorage/OneDrive-UniversityCollegeLondon/Documents/programming/keys-and-config/refinitiv-data.config.json/refinitiv-data.config.json'",
      "\nThe above exception was the direct cause of the following exception:\n",
      "\u001b[0;31mRDError\u001b[0m                                   Traceback (most recent call last)",
      "Cell \u001b[0;32mIn[5], line 1\u001b[0m\n\u001b[0;32m----> 1\u001b[0m rd\u001b[38;5;241m.\u001b[39mopen_session()\n",
      "File \u001b[0;32m~/anaconda3/envs/eikon/lib/python3.11/site-packages/refinitiv/data/_access_layer/session.py:45\u001b[0m, in \u001b[0;36mopen_session\u001b[0;34m(***failed resolving arguments***)\u001b[0m\n\u001b[1;32m     42\u001b[0m     config_object \u001b[38;5;241m=\u001b[39m load_config(config_name)\n\u001b[1;32m     44\u001b[0m \u001b[38;5;28;01melse\u001b[39;00m:\n\u001b[0;32m---> 45\u001b[0m     config_object \u001b[38;5;241m=\u001b[39m get_config()\n\u001b[1;32m     47\u001b[0m name \u001b[38;5;241m=\u001b[39m config_path \u001b[38;5;129;01mor\u001b[39;00m config_object\u001b[38;5;241m.\u001b[39mget_param(\u001b[38;5;124m\"\u001b[39m\u001b[38;5;124msessions.default\u001b[39m\u001b[38;5;124m\"\u001b[39m)\n\u001b[1;32m     49\u001b[0m \u001b[38;5;28;01mtry\u001b[39;00m:\n",
      "File \u001b[0;32m~/anaconda3/envs/eikon/lib/python3.11/site-packages/refinitiv/data/_configure.py:534\u001b[0m, in \u001b[0;36mget_config\u001b[0;34m()\u001b[0m\n\u001b[1;32m    528\u001b[0m \u001b[38;5;250m\u001b[39m\u001b[38;5;124;03m\"\"\"\u001b[39;00m\n\u001b[1;32m    529\u001b[0m \u001b[38;5;124;03mReturns\u001b[39;00m\n\u001b[1;32m    530\u001b[0m \u001b[38;5;124;03m-------\u001b[39;00m\n\u001b[1;32m    531\u001b[0m \u001b[38;5;124;03mconfig object\u001b[39;00m\n\u001b[1;32m    532\u001b[0m \u001b[38;5;124;03m\"\"\"\u001b[39;00m\n\u001b[1;32m    533\u001b[0m \u001b[38;5;28;01mif\u001b[39;00m _config \u001b[38;5;129;01mis\u001b[39;00m \u001b[38;5;28;01mNone\u001b[39;00m:\n\u001b[0;32m--> 534\u001b[0m     reload()\n\u001b[1;32m    535\u001b[0m \u001b[38;5;28;01mreturn\u001b[39;00m _config\n",
      "File \u001b[0;32m~/anaconda3/envs/eikon/lib/python3.11/site-packages/refinitiv/data/_configure.py:486\u001b[0m, in \u001b[0;36mreload\u001b[0;34m()\u001b[0m\n\u001b[1;32m    473\u001b[0m _project_config_dir \u001b[38;5;241m=\u001b[39m os\u001b[38;5;241m.\u001b[39menviron\u001b[38;5;241m.\u001b[39mget(_RDPLIB_ENV_DIR) \u001b[38;5;129;01mor\u001b[39;00m os\u001b[38;5;241m.\u001b[39mgetcwd()\n\u001b[1;32m    474\u001b[0m _config_files_paths \u001b[38;5;241m=\u001b[39m [\n\u001b[1;32m    475\u001b[0m     c\n\u001b[1;32m    476\u001b[0m     \u001b[38;5;28;01mfor\u001b[39;00m c \u001b[38;5;129;01min\u001b[39;00m [\n\u001b[0;32m   (...)\u001b[0m\n\u001b[1;32m    484\u001b[0m     \u001b[38;5;28;01mif\u001b[39;00m c\n\u001b[1;32m    485\u001b[0m ]\n\u001b[0;32m--> 486\u001b[0m _config \u001b[38;5;241m=\u001b[39m _create_rdpconfig(_config_files_paths)\n\u001b[1;32m    487\u001b[0m _config\u001b[38;5;241m.\u001b[39mload \u001b[38;5;241m=\u001b[39m _load_config_from_file\n\u001b[1;32m    489\u001b[0m _observer \u001b[38;5;241m=\u001b[39m \u001b[38;5;28;01mNone\u001b[39;00m\n",
      "File \u001b[0;32m~/anaconda3/envs/eikon/lib/python3.11/site-packages/refinitiv/data/_configure.py:461\u001b[0m, in \u001b[0;36m_create_rdpconfig\u001b[0;34m(files_paths)\u001b[0m\n\u001b[1;32m    459\u001b[0m \u001b[38;5;28;01mif\u001b[39;00m \u001b[38;5;28misinstance\u001b[39m(files_paths, \u001b[38;5;28mstr\u001b[39m):\n\u001b[1;32m    460\u001b[0m     files_paths \u001b[38;5;241m=\u001b[39m [files_paths]\n\u001b[0;32m--> 461\u001b[0m configs \u001b[38;5;241m=\u001b[39m _create_configs(files_paths)\n\u001b[1;32m    462\u001b[0m \u001b[38;5;28;01mreturn\u001b[39;00m _RDPConfig(\u001b[38;5;241m*\u001b[39mconfigs)\n",
      "File \u001b[0;32m~/anaconda3/envs/eikon/lib/python3.11/site-packages/refinitiv/data/_configure.py:101\u001b[0m, in \u001b[0;36m_create_configs\u001b[0;34m(files_paths)\u001b[0m\n\u001b[1;32m     99\u001b[0m \u001b[38;5;28;01mdef\u001b[39;00m \u001b[38;5;21m_create_configs\u001b[39m(files_paths: List[\u001b[38;5;28mstr\u001b[39m]):\n\u001b[1;32m    100\u001b[0m     config_from_dict \u001b[38;5;241m=\u001b[39m ext_config_mod\u001b[38;5;241m.\u001b[39mconfig_from_dict\n\u001b[0;32m--> 101\u001b[0m     dicts \u001b[38;5;241m=\u001b[39m [_read_config_file(f) \u001b[38;5;28;01mfor\u001b[39;00m f \u001b[38;5;129;01min\u001b[39;00m files_paths] \u001b[38;5;241m+\u001b[39m [_config_defaults\u001b[38;5;241m.\u001b[39mconfig]\n\u001b[1;32m    102\u001b[0m     configs \u001b[38;5;241m=\u001b[39m [config_from_dict(d) \u001b[38;5;28;01mfor\u001b[39;00m d \u001b[38;5;129;01min\u001b[39;00m dicts]\n\u001b[1;32m    103\u001b[0m     \u001b[38;5;28;01mreturn\u001b[39;00m configs\n",
      "File \u001b[0;32m~/anaconda3/envs/eikon/lib/python3.11/site-packages/refinitiv/data/_configure.py:101\u001b[0m, in \u001b[0;36m<listcomp>\u001b[0;34m(.0)\u001b[0m\n\u001b[1;32m     99\u001b[0m \u001b[38;5;28;01mdef\u001b[39;00m \u001b[38;5;21m_create_configs\u001b[39m(files_paths: List[\u001b[38;5;28mstr\u001b[39m]):\n\u001b[1;32m    100\u001b[0m     config_from_dict \u001b[38;5;241m=\u001b[39m ext_config_mod\u001b[38;5;241m.\u001b[39mconfig_from_dict\n\u001b[0;32m--> 101\u001b[0m     dicts \u001b[38;5;241m=\u001b[39m [_read_config_file(f) \u001b[38;5;28;01mfor\u001b[39;00m f \u001b[38;5;129;01min\u001b[39;00m files_paths] \u001b[38;5;241m+\u001b[39m [_config_defaults\u001b[38;5;241m.\u001b[39mconfig]\n\u001b[1;32m    102\u001b[0m     configs \u001b[38;5;241m=\u001b[39m [config_from_dict(d) \u001b[38;5;28;01mfor\u001b[39;00m d \u001b[38;5;129;01min\u001b[39;00m dicts]\n\u001b[1;32m    103\u001b[0m     \u001b[38;5;28;01mreturn\u001b[39;00m configs\n",
      "File \u001b[0;32m~/anaconda3/envs/eikon/lib/python3.11/site-packages/refinitiv/data/_configure.py:94\u001b[0m, in \u001b[0;36m_read_config_file\u001b[0;34m(path)\u001b[0m\n\u001b[1;32m     92\u001b[0m     \u001b[38;5;28;01mreturn\u001b[39;00m {}\n\u001b[1;32m     93\u001b[0m \u001b[38;5;28;01mexcept\u001b[39;00m \u001b[38;5;167;01mException\u001b[39;00m \u001b[38;5;28;01mas\u001b[39;00m exc:  \u001b[38;5;66;03m# noqa\u001b[39;00m\n\u001b[0;32m---> 94\u001b[0m     \u001b[38;5;28;01mraise\u001b[39;00m RDError(\u001b[38;5;241m0\u001b[39m, \u001b[38;5;124mf\u001b[39m\u001b[38;5;124m\"\u001b[39m\u001b[38;5;124mError happened during config file \u001b[39m\u001b[38;5;132;01m{\u001b[39;00mpath\u001b[38;5;132;01m}\u001b[39;00m\u001b[38;5;124m read\u001b[39m\u001b[38;5;124m\"\u001b[39m) \u001b[38;5;28;01mfrom\u001b[39;00m \u001b[38;5;21;01mexc\u001b[39;00m\n\u001b[1;32m     96\u001b[0m \u001b[38;5;28;01mreturn\u001b[39;00m _substitute_values(data, data)\n",
      "\u001b[0;31mRDError\u001b[0m: Error code 0 | Error happened during config file /Users/lydiamarsden/Library/CloudStorage/OneDrive-UniversityCollegeLondon/Documents/programming/keys-and-config/refinitiv-data.config.json/refinitiv-data.config.json read"
     ]
    }
   ],
   "source": [
    "rd.open_session()"
   ]
  },
  {
   "cell_type": "markdown",
   "id": "dbed0e57-0625-4561-a559-dcfc28b7d722",
   "metadata": {},
   "source": [
    "The above will look for an entry such as:  \n",
    ">    *\"sessions\": {  \n",
    ">        \"default\": \"desktop.workspace\",  \n",
    ">        ....  \n",
    ">    }*  \n",
    "\n",
    "and then use the parameters defined in the config section - in this example *\"desktop.workspace\"*, to create and open a desktop session.  \n",
    "Please refer to the supplied example **'refinitiv-data.config.json'** file for the full config example.\n",
    "\n",
    "### Open a specific configured session\n",
    "If you have multiple sessions configurations specified in the json file you can open a specific one by name e.g.:"
   ]
  },
  {
   "cell_type": "code",
   "execution_count": 17,
   "id": "693ee487-c6d0-4449-83b8-d206b4654867",
   "metadata": {},
   "outputs": [
    {
     "data": {
      "text/plain": [
       "<refinitiv.data.session.Definition object at 0x11cd2f050 {name='workspace'}>"
      ]
     },
     "execution_count": 17,
     "metadata": {},
     "output_type": "execute_result"
    }
   ],
   "source": [
    "rd.open_session(name='desktop.workspace')"
   ]
  },
  {
   "cell_type": "markdown",
   "id": "6917355d-c1f3-4df8-a5d5-368e7dea0d02",
   "metadata": {},
   "source": [
    "The above would open a session based on the parameters specified in the '*\"desktop.workspace\"* section of the json file."
   ]
  },
  {
   "cell_type": "markdown",
   "id": "583edf78-f57e-4193-9681-2d0f0c7af4e7",
   "metadata": {},
   "source": [
    "#### Open a session defined in a custom configuration file \n",
    "As well as the default config filename of **'refinitiv-data.config.json'**, you can also use a custom file to specify the config.   \n",
    "The following call opens the default session as defined in a custom configuration file - with the filename passed as a parameter."
   ]
  },
  {
   "cell_type": "code",
   "execution_count": null,
   "id": "4553a5cd-4bfc-46db-ac26-e07a92d8336b",
   "metadata": {},
   "outputs": [],
   "source": [
    "rd.open_session(config_name=\"../Configuration/refinitiv-data.custom.config.json\")"
   ]
  },
  {
   "cell_type": "markdown",
   "id": "c840ae9a-438b-4d89-b6ad-3d98e62eed87",
   "metadata": {},
   "source": [
    "#### Close the default session \n",
    "\n",
    "To close the default session you can call:"
   ]
  },
  {
   "cell_type": "code",
   "execution_count": 13,
   "id": "31806e10-6589-4d2f-842b-2319a67f311c",
   "metadata": {
    "tags": []
   },
   "outputs": [],
   "source": [
    "rd.close_session()"
   ]
  },
  {
   "cell_type": "markdown",
   "id": "079c0ec3",
   "metadata": {},
   "source": [
    "<br>      \n",
    "Alternatively, if you do not wish to use a refinitiv-data config file, you can define sessions by specifying the parameters and session type explicitly - as shown below.\n",
    "\n",
    "## Define the session using your own credentials store\n",
    "Sessions can be created by explicitly passing in your credentials/connectivity parameters.\n",
    "For example, the following calls use credentials/connectivity parameters defined in the cell below.\n",
    "Please edit the following cell to set your credentials and execute, before continuing."
   ]
  },
  {
   "cell_type": "code",
   "execution_count": null,
   "id": "3a5a7542-833e-421f-b5f3-a7d54701e169",
   "metadata": {},
   "outputs": [],
   "source": [
    "APP_KEY                     = 'YOUR_APP_KEY'\n",
    "RDP_LOGIN                   = 'YOUR_REFINITIV_DATA_PLATFORM_LOGIN'\n",
    "RDP_PASSWORD                = 'YOUR_REFINITIV_DATA_PLATFORM_PASSWORD'\n",
    "REALTIME_DISTRIBUTION_SERVICE_HOST      = 'THE_HOST:PORT_OF_YOUR_RTDS_HOST'  \n",
    "REALTIME_DISTRIBUTION_SERVICE_USER_NAME = 'YOUR_USER_NAME_ON_YOUR_RTDS_HOST' "
   ]
  },
  {
   "cell_type": "markdown",
   "id": "3b0f1e3f-c16f-4618-87be-ee422b7a50e1",
   "metadata": {},
   "source": [
    "   \n",
    "However, rather than hardcoding parameters in your code, you may prefer to keep your credentials in a .env file (or some other external store) - to avoid accidentally exposing your credentials when sharing code.  \n",
    "A .env file with blank entries has been included in this ***Quick Start*** folder - for your reference.\n"
   ]
  },
  {
   "cell_type": "code",
   "execution_count": null,
   "id": "6685af34-58f9-4cff-85b6-c646a83a0595",
   "metadata": {},
   "outputs": [],
   "source": [
    "# OR \n",
    "# Load credentials from a .env file (+ override any OS system env vars of the same name)\n",
    "from dotenv import load_dotenv\n",
    "# change the path to the location of your .env file\n",
    "load_dotenv(dotenv_path='c:/Refinitiv/.env',override=True)\n",
    "APP_KEY                     = os.getenv('APP_KEY')       # As created using the AppKey generator\n",
    "RDP_LOGIN                   = os.getenv('RDP_LOGIN')     # e.g. 'GE-A-01234567-8-9101'\n",
    "RDP_PASSWORD                = os.getenv('RDP_PASSWORD')  # the long password set via the link in the Machine Account Welcome Email\n",
    "REALTIME_DISTRIBUTION_SERVICE_HOST = os.getenv('DEPLOYED_PLATFORM_HOST')      # ADS hostname:PORT or IP:PORT e.g. 'myADS:15000'\n",
    "REALTIME_DISTRIBUTION_SERVICE_USER_NAME = os.getenv('DEPLOYED_PLATFORM_USER_NAME') # Your DACS User name"
   ]
  },
  {
   "cell_type": "markdown",
   "id": "54ce2f53",
   "metadata": {},
   "source": [
    "#### Desktop Session\n",
    "\n",
    "Create and open a Desktop session to Refintiv Eikon 4 or Refinitiv Workspace application - running locally (using the **APP_KEY** defined in the above notebook)."
   ]
  },
  {
   "cell_type": "code",
   "execution_count": 21,
   "id": "51fad442",
   "metadata": {},
   "outputs": [],
   "source": [
    "session = rd.session.desktop.Definition(app_key = APP_KEY).get_session()"
   ]
  },
  {
   "cell_type": "code",
   "execution_count": 92,
   "id": "f56b4553",
   "metadata": {},
   "outputs": [],
   "source": [
    "import pandas as pd\n",
    "\n",
    "names = pd.read_csv('/Users/lydiamarsden/Library/CloudStorage/OneDrive-UniversityCollegeLondon/Documents/programming/Mini projects/Trase_finance_supply_chains/outputs/orbis_company_list_amazon_soy.csv')\n",
    "names = pd.DataFrame(names)\n",
    "\n",
    "results = pd.DataFrame(columns=['BusinessEntity', 'DocumentTitle', 'PI'])\n",
    "\n",
    "for name in names['exporter']:\n",
    "    result = rd.discovery.search(\n",
    "        view = rd.discovery.Views.ORGANISATIONS,\n",
    "        query = name\n",
    "    )\n",
    "    result['Name'] = name\n",
    "    results = pd.concat(objs=[results, result])\n",
    "\n",
    "#results = results.to_string()\n",
    "results.to_csv(\"/Users/lydiamarsden/Library/CloudStorage/OneDrive-UniversityCollegeLondon/Documents/programming/Mini projects/eikon_api/rdp_name_search_test.csv\")\n",
    "\n",
    "\n"
   ]
  },
  {
   "cell_type": "markdown",
   "id": "b01b8490",
   "metadata": {},
   "source": [
    "#### OR Platform Session\n",
    "Create and open a Platform session to connect directly to the Refinitiv Data Platform. "
   ]
  },
  {
   "cell_type": "code",
   "execution_count": null,
   "id": "62485c4a",
   "metadata": {},
   "outputs": [],
   "source": [
    "session = rd.session.platform.Definition(\n",
    "    app_key = APP_KEY, \n",
    "    grant = rd.session.platform.GrantPassword(\n",
    "        username = RDP_LOGIN, \n",
    "        password = RDP_PASSWORD\n",
    "    )\n",
    ").get_session()"
   ]
  },
  {
   "cell_type": "markdown",
   "id": "3b46b41a",
   "metadata": {},
   "source": [
    "#### OR Local(Deployed) Session\n",
    "Create and open a Platform session to connect to a local (deployed) real-time distribution system(RTDS). "
   ]
  },
  {
   "cell_type": "code",
   "execution_count": null,
   "id": "76a9f215",
   "metadata": {},
   "outputs": [],
   "source": [
    "session = rd.session.platform.Definition(\n",
    "    app_key = APP_KEY, \n",
    "    deployed_platform_host = REALTIME_DISTRIBUTION_SERVICE_HOST,\n",
    "    deployed_platform_username = REALTIME_DISTRIBUTION_SERVICE_USER_NAME\n",
    ").get_session()"
   ]
  },
  {
   "cell_type": "markdown",
   "id": "8344e4af",
   "metadata": {},
   "source": [
    "#### OR Local + Platform\n",
    "\n",
    "Create and open a Platform session to both the Data Platform and a deployed real-time distribution system (RTDS).  \n",
    "With this configuration, streaming data is retrieved from the local platform while non-streaming data is retrieved from the Refinitiv Data Platform.  \n",
    "This scenario could apply where you want to consume both internally published streaming data and non-streaming data from Refinitiv"
   ]
  },
  {
   "cell_type": "code",
   "execution_count": null,
   "id": "ac8ef22e",
   "metadata": {},
   "outputs": [],
   "source": [
    "session = rd.session.platform.Definition(\n",
    "    app_key = APP_KEY, \n",
    "    grant = rd.session.platform.GrantPassword(\n",
    "        username = RDP_LOGIN, \n",
    "        password = RDP_PASSWORD\n",
    "    ),\n",
    "    deployed_platform_host = REALTIME_DISTRIBUTION_SERVICE_HOST,\n",
    "    deployed_platform_username = REALTIME_DISTRIBUTION_SERVICE_USER_NAME\n",
    ").get_session()"
   ]
  },
  {
   "cell_type": "markdown",
   "id": "ad057cf2",
   "metadata": {},
   "source": [
    "## Then open it"
   ]
  },
  {
   "cell_type": "code",
   "execution_count": null,
   "id": "5eb4432c",
   "metadata": {},
   "outputs": [],
   "source": [
    "session.open()"
   ]
  },
  {
   "cell_type": "markdown",
   "id": "f292fe62",
   "metadata": {},
   "source": [
    "## Diagnose any Session issues\n",
    "If you cannot open a session, to generate addtional logging, enable DEBUG logging and call session.open() again"
   ]
  },
  {
   "cell_type": "code",
   "execution_count": null,
   "id": "cf1b60c8",
   "metadata": {},
   "outputs": [],
   "source": [
    "import logging.config\n",
    "session.set_log_level(logging.DEBUG)\n",
    "session.open()\n",
    "# To set logging back to default value\n",
    "session.set_log_level(logging.WARNING)"
   ]
  },
  {
   "cell_type": "markdown",
   "id": "4d086445",
   "metadata": {},
   "source": [
    "## Close the session"
   ]
  },
  {
   "cell_type": "code",
   "execution_count": null,
   "id": "f628d577",
   "metadata": {},
   "outputs": [],
   "source": [
    "session.close()"
   ]
  },
  {
   "cell_type": "markdown",
   "id": "014c7989-9859-4de2-98fa-9d912aad1636",
   "metadata": {},
   "source": [
    "## Session Events and State change notification\n",
    "If you want to be notified of any Session events or change in State you can optionally specify State and Event callbacks"
   ]
  },
  {
   "cell_type": "code",
   "execution_count": null,
   "id": "adb83bc9",
   "metadata": {
    "jupyter": {
     "source_hidden": true
    },
    "tags": []
   },
   "outputs": [],
   "source": [
    "# Callback to handle session state changes\n",
    "def on_state_cb(state_code, state_msg, session):\n",
    "    print(f\"Session State:{state_code} | {state_msg}\")\n",
    "# Callback to handle session events\n",
    "def on_event_cb(event_code, event_msg, session):\n",
    "    print(f\"Session event:{event_code} | {event_msg}\")\n",
    "\n",
    "# Using PlatformSession - can be applied to DesktopSession as well\n",
    "session = rd.session.platform.Definition(\n",
    "    app_key=APP_KEY,\n",
    "    grant=rd.session.platform.GrantPassword(\n",
    "        username = RDP_LOGIN,\n",
    "        password = RDP_PASSWORD\n",
    "    )\n",
    ").get_session()\n",
    "\n",
    "# Set your callbacks for handing the session events\n",
    "session.on_event(on_event_cb)\n",
    "session.on_state(on_state_cb)\n",
    "\n",
    "# Open the Session\n",
    "session.open()\n",
    "\n",
    "#\n",
    "# Run your application code\n",
    "#\n"
   ]
  },
  {
   "cell_type": "code",
   "execution_count": null,
   "id": "f2bfad89-53d1-4e22-9903-3eba81159252",
   "metadata": {},
   "outputs": [],
   "source": [
    "# close the session when done\n",
    "session.close()"
   ]
  },
  {
   "cell_type": "code",
   "execution_count": null,
   "id": "8b3e68d2-dff9-4df7-a84f-f27ea00c8baf",
   "metadata": {},
   "outputs": [],
   "source": []
  },
  {
   "cell_type": "code",
   "execution_count": null,
   "id": "a09a59dd-1ea1-4628-a349-54a7f7927854",
   "metadata": {},
   "outputs": [],
   "source": []
  }
 ],
 "metadata": {
  "kernelspec": {
   "display_name": "Python 3 (ipykernel)",
   "language": "python",
   "name": "python3"
  },
  "language_info": {
   "codemirror_mode": {
    "name": "ipython",
    "version": 3
   },
   "file_extension": ".py",
   "mimetype": "text/x-python",
   "name": "python",
   "nbconvert_exporter": "python",
   "pygments_lexer": "ipython3",
   "version": "3.11.5"
  }
 },
 "nbformat": 4,
 "nbformat_minor": 5
}
